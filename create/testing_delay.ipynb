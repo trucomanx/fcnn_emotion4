{
 "cells": [
  {
   "cell_type": "code",
   "execution_count": 1,
   "id": "2e77e209",
   "metadata": {},
   "outputs": [],
   "source": [
    "input_default_json_conf_file='cnn_emotion4_testing_delay_default.json';"
   ]
  },
  {
   "cell_type": "code",
   "execution_count": 2,
   "id": "3410f40c-893b-449d-b024-7781e0d76733",
   "metadata": {},
   "outputs": [
    {
     "name": "stderr",
     "output_type": "stream",
     "text": [
      "2024-05-09 12:52:01.436438: E external/local_xla/xla/stream_executor/cuda/cuda_dnn.cc:9261] Unable to register cuDNN factory: Attempting to register factory for plugin cuDNN when one has already been registered\n",
      "2024-05-09 12:52:01.436460: E external/local_xla/xla/stream_executor/cuda/cuda_fft.cc:607] Unable to register cuFFT factory: Attempting to register factory for plugin cuFFT when one has already been registered\n",
      "2024-05-09 12:52:01.437137: E external/local_xla/xla/stream_executor/cuda/cuda_blas.cc:1515] Unable to register cuBLAS factory: Attempting to register factory for plugin cuBLAS when one has already been registered\n",
      "2024-05-09 12:52:01.440859: I tensorflow/core/platform/cpu_feature_guard.cc:182] This TensorFlow binary is optimized to use available CPU instructions in performance-critical operations.\n",
      "To enable the following instructions: AVX2 FMA, in other operations, rebuild TensorFlow with the appropriate compiler flags.\n",
      "2024-05-09 12:52:01.964552: W tensorflow/compiler/tf2tensorrt/utils/py_utils.cc:38] TF-TRT Warning: Could not find TensorRT\n"
     ]
    }
   ],
   "source": [
    "import numpy as np\n",
    "import pandas as pd\n",
    "import os\n",
    "import tensorflow as tf\n",
    "import json\n",
    "from tensorflow.keras.preprocessing.image import load_img"
   ]
  },
  {
   "cell_type": "code",
   "execution_count": 3,
   "id": "d4ce46fc-8392-4e0b-a820-3ce426fcc7ba",
   "metadata": {},
   "outputs": [],
   "source": [
    "import sys\n",
    "sys.path.append('../library');"
   ]
  },
  {
   "cell_type": "code",
   "execution_count": 4,
   "id": "5c365c1f",
   "metadata": {},
   "outputs": [
    {
     "name": "stdout",
     "output_type": "stream",
     "text": [
      "Num GPUs Available:  1\n"
     ]
    },
    {
     "name": "stderr",
     "output_type": "stream",
     "text": [
      "2024-05-09 12:52:06.069038: I external/local_xla/xla/stream_executor/cuda/cuda_executor.cc:901] successful NUMA node read from SysFS had negative value (-1), but there must be at least one NUMA node, so returning NUMA node zero. See more at https://github.com/torvalds/linux/blob/v6.0/Documentation/ABI/testing/sysfs-bus-pci#L344-L355\n",
      "2024-05-09 12:52:06.090057: I external/local_xla/xla/stream_executor/cuda/cuda_executor.cc:901] successful NUMA node read from SysFS had negative value (-1), but there must be at least one NUMA node, so returning NUMA node zero. See more at https://github.com/torvalds/linux/blob/v6.0/Documentation/ABI/testing/sysfs-bus-pci#L344-L355\n",
      "2024-05-09 12:52:06.090163: I external/local_xla/xla/stream_executor/cuda/cuda_executor.cc:901] successful NUMA node read from SysFS had negative value (-1), but there must be at least one NUMA node, so returning NUMA node zero. See more at https://github.com/torvalds/linux/blob/v6.0/Documentation/ABI/testing/sysfs-bus-pci#L344-L355\n"
     ]
    }
   ],
   "source": [
    "print(\"Num GPUs Available: \", len(tf.config.list_physical_devices('GPU')))"
   ]
  },
  {
   "cell_type": "code",
   "execution_count": 5,
   "id": "9afbfad3",
   "metadata": {},
   "outputs": [],
   "source": [
    "## Load json conf file\n",
    "fd = open(os.path.join('./',input_default_json_conf_file));\n",
    "DATA = json.load(fd);\n",
    "fd.close()"
   ]
  },
  {
   "cell_type": "markdown",
   "id": "13b0f452-3278-49c0-9601-c8a443dbc32b",
   "metadata": {},
   "source": [
    "# Variable globales"
   ]
  },
  {
   "cell_type": "code",
   "execution_count": 6,
   "id": "d83c3fa6-dbbb-4644-a12f-e497f971a446",
   "metadata": {},
   "outputs": [
    {
     "data": {
      "text/plain": [
       "\"\\nprint('   dataset_base_dir:',dataset_base_dir)\\nprint('dataset_labels_file:',dataset_labels_file)\\nprint('       dataset_name:',dataset_name)\\nprint('         model_type:',model_type)\\nprint('          model_dir:',model_dir)\\nprint('              times:',times)\\nprint('    output_base_dir:',output_base_dir)\\n\""
      ]
     },
     "execution_count": 6,
     "metadata": {},
     "output_type": "execute_result"
    }
   ],
   "source": [
    "## Seed for the random variables\n",
    "seed_number=0;\n",
    "\n",
    "## Dataset \n",
    "dataset_base_dir     = DATA['dataset_base_dir'];\n",
    "dataset_labels_file  = DATA['dataset_labels_file'];\n",
    "dataset_name         = DATA['dataset_name'];\n",
    "\n",
    "label_colname='label';\n",
    "filename_colname='filename';\n",
    "target_labels=['negative','neutro','pain','positive'];\n",
    "\n",
    "## Model of network\n",
    "## 'mobilenet_v3', 'efficientnet_b3', 'inception_v3', 'inception_resnet_v2', 'resnet_v2_50'\n",
    "model_type = DATA['model_type'];\n",
    "\n",
    "## Model filepath\n",
    "model_dir = DATA['model_dir'];\n",
    "\n",
    "## times to count time\n",
    "times = DATA['times'];\n",
    "\n",
    "## Output\n",
    "output_base_dir = DATA['output_base_dir'];\n",
    "\n",
    "##############################################\n",
    "\n",
    "best_model_file = os.path.join(model_dir,'model_'+model_type+'.h5');\n",
    "\n",
    "\n",
    "'''\n",
    "print('   dataset_base_dir:',dataset_base_dir)\n",
    "print('dataset_labels_file:',dataset_labels_file)\n",
    "print('       dataset_name:',dataset_name)\n",
    "print('         model_type:',model_type)\n",
    "print('          model_dir:',model_dir)\n",
    "print('              times:',times)\n",
    "print('    output_base_dir:',output_base_dir)\n",
    "'''"
   ]
  },
  {
   "cell_type": "markdown",
   "id": "3cdc12f1-6c56-4e35-b126-8979486b695b",
   "metadata": {},
   "source": [
    "# If command line"
   ]
  },
  {
   "cell_type": "code",
   "execution_count": 7,
   "id": "2087e4ea-a8e4-4ed5-b2f7-2b391f054575",
   "metadata": {},
   "outputs": [
    {
     "name": "stdout",
     "output_type": "stream",
     "text": [
      "   dataset_base_dir: /media/fernando/B0EA304AEA300EDA/Dados/Fernando/DATASET/TESE/PATIENT-RECOGNITION/PATIENT-IMAGES/perwi/dataset/test/\n",
      "dataset_labels_file: labels-emotion4-v1.csv\n",
      "       dataset_name: perwi\n",
      "         model_type: efficientnet_b3\n",
      "          model_dir: /media/fernando/B0EA304AEA300EDA/Dados/Fernando/OUTPUTS/DOCTORADO2/cnn_emotion4/perwi/training_validation_holdout/efficientnet_b3\n",
      "              times: 10\n",
      "    output_base_dir: /media/fernando/B0EA304AEA300EDA/Dados/Fernando/OUTPUTS/DOCTORADO2/cnn_emotion4_1\n",
      "         model_file: /media/fernando/B0EA304AEA300EDA/Dados/Fernando/OUTPUTS/DOCTORADO2/cnn_emotion4/perwi/training_validation_holdout/efficientnet_b3/model_efficientnet_b3.h5\n"
     ]
    }
   ],
   "source": [
    "for n in range(len(sys.argv)):\n",
    "    if   sys.argv[n]=='--dataset-dir':\n",
    "        dataset_base_dir=sys.argv[n+1];\n",
    "    elif sys.argv[n]=='--dataset-file':\n",
    "        dataset_labels_file=sys.argv[n+1];\n",
    "    elif sys.argv[n]=='--dataset-name':\n",
    "        dataset_name=sys.argv[n+1];\n",
    "    elif sys.argv[n]=='--model':\n",
    "        model_type=sys.argv[n+1];\n",
    "    elif sys.argv[n]=='--model-dir':\n",
    "        model_dir=sys.argv[n+1];\n",
    "    elif sys.argv[n]=='--times':\n",
    "        times=int(sys.argv[n+1]);\n",
    "    elif sys.argv[n]=='--output-dir':\n",
    "        output_base_dir=sys.argv[n+1];\n",
    "\n",
    "best_model_file = os.path.join(model_dir,'model_'+model_type+'.h5');\n",
    "\n",
    "print('   dataset_base_dir:',dataset_base_dir)\n",
    "print('dataset_labels_file:',dataset_labels_file)\n",
    "print('       dataset_name:',dataset_name)\n",
    "print('         model_type:',model_type)\n",
    "print('          model_dir:',model_dir)\n",
    "print('              times:',times)\n",
    "print('    output_base_dir:',output_base_dir)\n",
    "\n",
    "print('         model_file:',best_model_file)"
   ]
  },
  {
   "cell_type": "markdown",
   "id": "99d1dee5-778a-4fd9-80de-90620bb33128",
   "metadata": {},
   "source": [
    "# Set seed of random variables\n"
   ]
  },
  {
   "cell_type": "code",
   "execution_count": 8,
   "id": "6ddef12f-6604-4c71-9473-15f328e954dd",
   "metadata": {},
   "outputs": [],
   "source": [
    "np.random.seed(seed_number)\n",
    "tf.keras.utils.set_random_seed(seed_number);"
   ]
  },
  {
   "cell_type": "markdown",
   "id": "1a5242bb-2077-4de0-8f41-374768f159e9",
   "metadata": {},
   "source": [
    "# Loading data of dataset"
   ]
  },
  {
   "cell_type": "code",
   "execution_count": 9,
   "id": "4f79564c-1ed0-4459-90cc-84e2bdda978c",
   "metadata": {},
   "outputs": [
    {
     "name": "stdout",
     "output_type": "stream",
     "text": [
      "                    filename     label\n",
      "0    patient/filename302.png  Positive\n",
      "1    patient/filename303.png  Positive\n",
      "2    patient/filename304.png  Positive\n",
      "3    patient/filename305.png  Positive\n",
      "4    patient/filename306.png  Positive\n",
      "..                       ...       ...\n",
      "268   people/filename522.png  Positive\n",
      "269   people/filename525.png    Neutro\n",
      "270   people/filename526.png  Positive\n",
      "271   people/filename527.png    Neutro\n",
      "272   people/filename528.png    Neutro\n",
      "\n",
      "[273 rows x 2 columns]\n"
     ]
    }
   ],
   "source": [
    "# Load filenames and labels\n",
    "test_data = pd.read_csv(os.path.join(dataset_base_dir,dataset_labels_file));\n",
    "print(test_data)"
   ]
  },
  {
   "cell_type": "markdown",
   "id": "ed5189cf-b447-4b0a-b9f3-56f304d6fdde",
   "metadata": {},
   "source": [
    "# Creating output directory"
   ]
  },
  {
   "cell_type": "code",
   "execution_count": 25,
   "id": "6a786de7-43ac-4597-92eb-d9eee66f81d9",
   "metadata": {},
   "outputs": [],
   "source": [
    "\n",
    "output_dir = os.path.join(output_base_dir,dataset_name,'test_delay',model_type);\n",
    "\n",
    "os.makedirs(output_dir,exist_ok = True);"
   ]
  },
  {
   "cell_type": "markdown",
   "id": "bbf04e51-7a7b-4116-8e1e-04e5f358c5dc",
   "metadata": {},
   "source": [
    "# Create new model"
   ]
  },
  {
   "cell_type": "code",
   "execution_count": 26,
   "id": "5d629ba9-d621-4905-a88f-a0730d6c1802",
   "metadata": {},
   "outputs": [
    {
     "name": "stdout",
     "output_type": "stream",
     "text": [
      "Loading architecture efficientnet_b3\n",
      "\n",
      "        url: https://tfhub.dev/tensorflow/efficientnet/b3/feature-vector/1\n",
      "target_size: (300, 300)\n",
      "\n"
     ]
    },
    {
     "name": "stderr",
     "output_type": "stream",
     "text": [
      "2024-05-09 10:10:11.046647: I external/local_xla/xla/stream_executor/cuda/cuda_executor.cc:901] successful NUMA node read from SysFS had negative value (-1), but there must be at least one NUMA node, so returning NUMA node zero. See more at https://github.com/torvalds/linux/blob/v6.0/Documentation/ABI/testing/sysfs-bus-pci#L344-L355\n",
      "2024-05-09 10:10:11.046766: I external/local_xla/xla/stream_executor/cuda/cuda_executor.cc:901] successful NUMA node read from SysFS had negative value (-1), but there must be at least one NUMA node, so returning NUMA node zero. See more at https://github.com/torvalds/linux/blob/v6.0/Documentation/ABI/testing/sysfs-bus-pci#L344-L355\n",
      "2024-05-09 10:10:11.046847: I external/local_xla/xla/stream_executor/cuda/cuda_executor.cc:901] successful NUMA node read from SysFS had negative value (-1), but there must be at least one NUMA node, so returning NUMA node zero. See more at https://github.com/torvalds/linux/blob/v6.0/Documentation/ABI/testing/sysfs-bus-pci#L344-L355\n",
      "2024-05-09 10:10:11.098279: I external/local_xla/xla/stream_executor/cuda/cuda_executor.cc:901] successful NUMA node read from SysFS had negative value (-1), but there must be at least one NUMA node, so returning NUMA node zero. See more at https://github.com/torvalds/linux/blob/v6.0/Documentation/ABI/testing/sysfs-bus-pci#L344-L355\n",
      "2024-05-09 10:10:11.098384: I external/local_xla/xla/stream_executor/cuda/cuda_executor.cc:901] successful NUMA node read from SysFS had negative value (-1), but there must be at least one NUMA node, so returning NUMA node zero. See more at https://github.com/torvalds/linux/blob/v6.0/Documentation/ABI/testing/sysfs-bus-pci#L344-L355\n",
      "2024-05-09 10:10:11.098470: I external/local_xla/xla/stream_executor/cuda/cuda_executor.cc:901] successful NUMA node read from SysFS had negative value (-1), but there must be at least one NUMA node, so returning NUMA node zero. See more at https://github.com/torvalds/linux/blob/v6.0/Documentation/ABI/testing/sysfs-bus-pci#L344-L355\n",
      "2024-05-09 10:10:11.098530: I tensorflow/core/common_runtime/gpu/gpu_device.cc:1929] Created device /job:localhost/replica:0/task:0/device:GPU:0 with 9961 MB memory:  -> device: 0, name: NVIDIA GeForce RTX 3060, pci bus id: 0000:01:00.0, compute capability: 8.6\n"
     ]
    },
    {
     "name": "stdout",
     "output_type": "stream",
     "text": [
      "Loading the weights in: /media/fernando/B0EA304AEA300EDA/Dados/Fernando/OUTPUTS/DOCTORADO2/cnn_emotion4/perwi/training_validation_holdout/efficientnet_b3/model_efficientnet_b3.h5\n",
      "Loaded the weights in: /media/fernando/B0EA304AEA300EDA/Dados/Fernando/OUTPUTS/DOCTORADO2/cnn_emotion4/perwi/training_validation_holdout/efficientnet_b3/model_efficientnet_b3.h5\n",
      "Model: \"sequential\"\n",
      "_________________________________________________________________\n",
      " Layer (type)                Output Shape              Param #   \n",
      "=================================================================\n",
      " keras_layer (KerasLayer)    (None, 1536)              10783528  \n",
      "                                                                 \n",
      " dense (Dense)               (None, 4)                 6148      \n",
      "                                                                 \n",
      "=================================================================\n",
      "Total params: 10789676 (41.16 MB)\n",
      "Trainable params: 6148 (24.02 KB)\n",
      "Non-trainable params: 10783528 (41.14 MB)\n",
      "_________________________________________________________________\n"
     ]
    }
   ],
   "source": [
    "import BodyEmotion4Lib.lib_model as mpp\n",
    "\n",
    "model, target_size = mpp.create_model(model_type=model_type,load_weights=False,file_of_weight=best_model_file);\n",
    "model.summary()\n",
    "\n",
    "mpp.save_model_parameters(model, os.path.join(output_dir,'parameters_stats.m'));\n"
   ]
  },
  {
   "cell_type": "markdown",
   "id": "67beeb38-1ad1-455d-8a71-5900a1e88163",
   "metadata": {},
   "source": [
    "# Creating PIL data images"
   ]
  },
  {
   "cell_type": "code",
   "execution_count": 30,
   "id": "c2e3e68f-50e7-4f8c-9cd6-ae3261e8f20f",
   "metadata": {},
   "outputs": [],
   "source": [
    "import pandas as pd\n",
    "\n",
    "pil_image=[];\n",
    "label_image=[]\n",
    "for index, row in test_data.iterrows():\n",
    "    filepath=os.path.join(dataset_base_dir,row[filename_colname]);\n",
    "    pil_image.append(load_img(filepath,target_size=target_size));\n",
    "    label_image.append(target_labels.index(row[label_colname].lower()));\n",
    "\n",
    "#print(label_image)"
   ]
  },
  {
   "cell_type": "markdown",
   "id": "083be078-c76e-423a-a538-6e5c6c9cda8c",
   "metadata": {},
   "source": [
    "# Time"
   ]
  },
  {
   "cell_type": "code",
   "execution_count": null,
   "id": "33e25913-47a1-4e14-b560-2c5037904a7f",
   "metadata": {},
   "outputs": [],
   "source": [
    "from pytictoc import TicToc\n",
    "t = TicToc() "
   ]
  },
  {
   "cell_type": "markdown",
   "id": "a97efa97-b910-43a5-97ee-a18a230305e7",
   "metadata": {},
   "source": [
    "# Evaluate best model"
   ]
  },
  {
   "cell_type": "code",
   "execution_count": null,
   "id": "ad6b267c",
   "metadata": {},
   "outputs": [],
   "source": [
    "Count=0;\n",
    "L=len(pil_image);\n",
    "\n",
    "t.tic();\n",
    "for m in range(times):\n",
    "    for n in range(L):\n",
    "        res=mpp.evaluate_model_from_pil(model, pil_image[n],target_size=target_size)\n",
    "        if label_image[n]==res:\n",
    "            Count=Count+1;\n",
    "t0=t.tocvalue();\n",
    "\n",
    "\n",
    "results = dict()\n",
    "results['categorical_accuracy']=Count*1.0/(L*times);\n",
    "results['delayms']=t0*1000.0/(times*L);\n",
    "print(results,\"\\n\\n\");"
   ]
  },
  {
   "cell_type": "code",
   "execution_count": null,
   "id": "1d4f6536-46f0-4c89-b98f-7cb5a4075cf1",
   "metadata": {},
   "outputs": [],
   "source": [
    "\n",
    "\n",
    "\n",
    "with open(os.path.join(output_dir,\"results_testing.m\"), 'w') as f: \n",
    "    for key, value in results.items(): \n",
    "        f.write('%s=%s;\\n' % (key, value));\n",
    "\n",
    "\n",
    "# final all json\n",
    "with open(os.path.join(output_dir,\"testing_data_results.json\"), 'w') as f:\n",
    "    json.dump(results, f,indent=4);\n",
    "\n",
    "tf.keras.backend.clear_session()\n"
   ]
  }
 ],
 "metadata": {
  "kernelspec": {
   "display_name": "Python 3",
   "language": "python",
   "name": "python3"
  },
  "language_info": {
   "codemirror_mode": {
    "name": "ipython",
    "version": 3
   },
   "file_extension": ".py",
   "mimetype": "text/x-python",
   "name": "python",
   "nbconvert_exporter": "python",
   "pygments_lexer": "ipython3",
   "version": "3.10.12"
  }
 },
 "nbformat": 4,
 "nbformat_minor": 5
}
